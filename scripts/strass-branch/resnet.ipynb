{
 "cells": [
  {
   "cell_type": "code",
   "execution_count": null,
   "id": "592b89e6",
   "metadata": {},
   "outputs": [],
   "source": [
    "# multimodal_stimulus_fmri_predict/classifiers/resnet.py\n",
    "import torch\n",
    "import torch.nn as nn\n",
    "from torchvision import models\n",
    "from ..core.base_classifier import BaseClassifier\n",
    "\n",
    "class ResNetClassifier(BaseClassifier):\n",
    "    \"\"\"ResNet classifier for image-based fMRI prediction.\"\"\"\n",
    "    \n",
    "    def build_model(self) -> nn.Module:\n",
    "        \"\"\"Build ResNet model with custom classification head.\"\"\"\n",
    "        model_name = self.config.get('model_name', 'resnet50')\n",
    "        pretrained = self.config.get('pretrained', True)\n",
    "        \n",
    "        if model_name == 'resnet18':\n",
    "            model = models.resnet18(pretrained=pretrained)\n",
    "        elif model_name == 'resnet34':\n",
    "            model = models.resnet34(pretrained=pretrained)\n",
    "        elif model_name == 'resnet50':\n",
    "            model = models.resnet50(pretrained=pretrained)\n",
    "        elif model_name == 'resnet101':\n",
    "            model = models.resnet101(pretrained=pretrained)\n",
    "        else:\n",
    "            raise ValueError(f\"Unsupported ResNet variant: {model_name}\")\n",
    "        \n",
    "        # Replace final layer\n",
    "        num_features = model.fc.in_features\n",
    "        model.fc = nn.Sequential(\n",
    "            nn.Linear(num_features, 512),\n",
    "            nn.ReLU(),\n",
    "            nn.Dropout(0.3),\n",
    "            nn.Linear(512, self.config.get('num_classes', 2))\n",
    "        )\n",
    "        \n",
    "        return model\n",
    "    \n",
    "    def preprocess_data(self, data: torch.Tensor) -> torch.Tensor:\n",
    "        \"\"\"Preprocess images for ResNet.\"\"\"\n",
    "        # Ensure RGB format\n",
    "        if data.shape[1] == 1:\n",
    "            data = data.repeat(1, 3, 1, 1)\n",
    "        \n",
    "        # Normalize using ImageNet stats\n",
    "        mean = torch.tensor([0.485, 0.456, 0.406]).view(1, 3, 1, 1).to(data.device)\n",
    "        std = torch.tensor([0.229, 0.224, 0.225]).view(1, 3, 1, 1).to(data.device)\n",
    "        data = (data - mean) / std\n",
    "        \n",
    "        return data\n"
   ]
  }
 ],
 "metadata": {
  "language_info": {
   "name": "python"
  }
 },
 "nbformat": 4,
 "nbformat_minor": 5
}
