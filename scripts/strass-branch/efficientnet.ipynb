{
 "cells": [
  {
   "cell_type": "code",
   "execution_count": null,
   "id": "a56e81ff",
   "metadata": {},
   "outputs": [],
   "source": [
    "\n",
    "# multimodal_stimulus_fmri_predict/classifiers/efficientnet.py\n",
    "import torch\n",
    "import torch.nn as nn\n",
    "from torchvision import models\n",
    "from ..core.base_classifier import BaseClassifier\n",
    "\n",
    "class EfficientNetClassifier(BaseClassifier):\n",
    "    \"\"\"EfficientNet classifier for image-based fMRI prediction.\"\"\"\n",
    "    \n",
    "    def build_model(self) -> nn.Module:\n",
    "        \"\"\"Build EfficientNet model with custom classification head.\"\"\"\n",
    "        model_name = self.config.get('model_name', 'efficientnet_b0')\n",
    "        pretrained = self.config.get('pretrained', True)\n",
    "        \n",
    "        if model_name == 'efficientnet_b0':\n",
    "            model = models.efficientnet_b0(pretrained=pretrained)\n",
    "        elif model_name == 'efficientnet_b1':\n",
    "            model = models.efficientnet_b1(pretrained=pretrained)\n",
    "        elif model_name == 'efficientnet_b2':\n",
    "            model = models.efficientnet_b2(pretrained=pretrained)\n",
    "        else:\n",
    "            raise ValueError(f\"Unsupported EfficientNet variant: {model_name}\")\n",
    "        \n",
    "        # Replace classifier\n",
    "        num_features = model.classifier[1].in_features\n",
    "        model.classifier = nn.Sequential(\n",
    "            nn.Dropout(0.3),\n",
    "            nn.Linear(num_features, 512),\n",
    "            nn.ReLU(),\n",
    "            nn.Dropout(0.3),\n",
    "            nn.Linear(512, self.config.get('num_classes', 2))\n",
    "        )\n",
    "        \n",
    "        return model\n",
    "    \n",
    "    def preprocess_data(self, data: torch.Tensor) -> torch.Tensor:\n",
    "        \"\"\"Preprocess images for EfficientNet.\"\"\"\n",
    "        # Ensure RGB format\n",
    "        if data.shape[1] == 1:\n",
    "            data = data.repeat(1, 3, 1, 1)\n",
    "        \n",
    "        # Normalize using ImageNet stats\n",
    "        mean = torch.tensor([0.485, 0.456, 0.406]).view(1, 3, 1, 1).to(data.device)\n",
    "        std = torch.tensor([0.229, 0.224, 0.225]).view(1, 3, 1, 1).to(data.device)\n",
    "        data = (data - mean) / std\n",
    "        \n",
    "        return data\n"
   ]
  }
 ],
 "metadata": {
  "language_info": {
   "name": "python"
  }
 },
 "nbformat": 4,
 "nbformat_minor": 5
}
