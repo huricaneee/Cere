{
 "cells": [
  {
   "cell_type": "code",
   "execution_count": null,
   "id": "ba036a7a",
   "metadata": {},
   "outputs": [],
   "source": [
    "# data/loaders.py\n",
    "import numpy as np\n",
    "import pandas as pd\n",
    "from typing import Tuple, Optional, Dict, Any\n",
    "from sklearn.model_selection import train_test_split\n",
    "import nibabel as nib\n",
    "from pathlib import Path\n",
    "\n",
    "class FMRIDataLoader:\n",
    "    \"\"\"Loader for fMRI data with multimodal stimuli\"\"\"\n",
    "    \n",
    "    def __init__(self, config: Dict[str, Any]):\n",
    "        self.config = config\n",
    "        self.data_path = Path(config['data_path'])\n",
    "        \n",
    "    def load_fmri_data(self, subject_id: str) -> Tuple[np.ndarray, np.ndarray]:\n",
    "        \"\"\"Load fMRI data for a specific subject\"\"\"\n",
    "        fmri_file = self.data_path / f\"sub-{subject_id}\" / \"func\" / f\"sub-{subject_id}_task-stimuli_bold.nii.gz\"\n",
    "        \n",
    "        if not fmri_file.exists():\n",
    "            raise FileNotFoundError(f\"fMRI data not found: {fmri_file}\")\n",
    "            \n",
    "        img = nib.load(str(fmri_file))\n",
    "        data = img.get_fdata()\n",
    "        \n",
    "        # Reshape from 4D (x, y, z, time) to 2D (time, voxels)\n",
    "        n_timepoints = data.shape[-1]\n",
    "        data_2d = data.reshape(-1, n_timepoints).T\n",
    "        \n",
    "        return data_2d, img.affine\n",
    "    \n",
    "    def load_stimulus_labels(self, subject_id: str) -> np.ndarray:\n",
    "        \"\"\"Load stimulus labels\"\"\"\n",
    "        label_file = self.data_path / f\"sub-{subject_id}\" / f\"sub-{subject_id}_task-stimuli_events.tsv\"\n",
    "        \n",
    "        if not label_file.exists():\n",
    "            raise FileNotFoundError(f\"Label file not found: {label_file}\")\n",
    "            \n",
    "        events = pd.read_csv(label_file, sep='\\t')\n",
    "        return events['stimulus_type'].values\n",
    "    \n",
    "    def create_train_test_split(self, \n",
    "                              X: np.ndarray, \n",
    "                              y: np.ndarray, \n",
    "                              test_size: float = 0.2,\n",
    "                              random_state: int = 42) -> Tuple[np.ndarray, np.ndarray, np.ndarray, np.ndarray]:\n",
    "        \"\"\"Create train/test split\"\"\"\n",
    "        return train_test_split(X, y, test_size=test_size, \n",
    "                              random_state=random_state, stratify=y)"
   ]
  }
 ],
 "metadata": {
  "language_info": {
   "name": "python"
  }
 },
 "nbformat": 4,
 "nbformat_minor": 5
}
