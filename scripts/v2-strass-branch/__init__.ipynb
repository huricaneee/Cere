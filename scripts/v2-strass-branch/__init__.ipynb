{
 "cells": [
  {
   "cell_type": "code",
   "execution_count": null,
   "id": "efa190ef",
   "metadata": {},
   "outputs": [],
   "source": [
    "# models/__init__.py\n",
    "from typing import Dict, Any\n",
    "from .base_classifier import BaseClassifier\n",
    "from .classical.svm import SVMClassifier\n",
    "from .classical.random_forest import RandomForestClassifier\n",
    "from .classical.logistic_regression import LogisticRegressionClassifier\n",
    "from .neural.mlp import MLPClassifier\n",
    "from .neural.cnn import CNNClassifier\n",
    "from .neural.lstm import LSTMClassifier\n",
    "from .neural.transformer import TransformerClassifier\n",
    "\n",
    "class ClassifierFactory:\n",
    "    \"\"\"Factory for creating different classifier instances\"\"\"\n",
    "    \n",
    "    _classifiers = {\n",
    "        'svm': SVMClassifier,\n",
    "        'random_forest': RandomForestClassifier,\n",
    "        'logistic_regression': LogisticRegressionClassifier,\n",
    "        'mlp': MLPClassifier,\n",
    "        'cnn': CNNClassifier,\n",
    "        'lstm': LSTMClassifier,\n",
    "        'transformer': TransformerClassifier,\n",
    "    }\n",
    "    \n",
    "    @classmethod\n",
    "    def create_classifier(cls, classifier_type: str, config: Dict[str, Any]) -> BaseClassifier:\n",
    "        \"\"\"Create a classifier instance\"\"\"\n",
    "        if classifier_type not in cls._classifiers:\n",
    "            raise ValueError(f\"Unknown classifier type: {classifier_type}\")\n",
    "        \n",
    "        return cls._classifiers[classifier_type](config)\n",
    "    \n",
    "    @classmethod\n",
    "    def get_available_classifiers(cls) -> list:\n",
    "        \"\"\"Get list of available classifier types\"\"\"\n",
    "        return list(cls._classifiers.keys())"
   ]
  }
 ],
 "metadata": {
  "language_info": {
   "name": "python"
  }
 },
 "nbformat": 4,
 "nbformat_minor": 5
}
