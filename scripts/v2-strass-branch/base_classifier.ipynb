{
 "cells": [
  {
   "cell_type": "code",
   "execution_count": null,
   "id": "d3c3e27e",
   "metadata": {},
   "outputs": [],
   "source": [
    "# models/base_classifier.py\n",
    "from abc import ABC, abstractmethod\n",
    "from typing import Dict, Any, Tuple\n",
    "import numpy as np\n",
    "from sklearn.base import BaseEstimator\n",
    "\n",
    "class BaseClassifier(ABC, BaseEstimator):\n",
    "    \"\"\"Abstract base class for all classifiers\"\"\"\n",
    "    \n",
    "    def __init__(self, config: Dict[str, Any]):\n",
    "        self.config = config\n",
    "        self.model = None\n",
    "        self.is_fitted = False\n",
    "        \n",
    "    @abstractmethod\n",
    "    def fit(self, X: np.ndarray, y: np.ndarray) -> 'BaseClassifier':\n",
    "        \"\"\"Train the classifier\"\"\"\n",
    "        pass\n",
    "        \n",
    "    @abstractmethod\n",
    "    def predict(self, X: np.ndarray) -> np.ndarray:\n",
    "        \"\"\"Make predictions\"\"\"\n",
    "        pass\n",
    "        \n",
    "    @abstractmethod\n",
    "    def predict_proba(self, X: np.ndarray) -> np.ndarray:\n",
    "        \"\"\"Return prediction probabilities\"\"\"\n",
    "        pass\n",
    "        \n",
    "    @abstractmethod\n",
    "    def get_feature_importance(self) -> np.ndarray:\n",
    "        \"\"\"Return feature importance scores\"\"\"\n",
    "        pass\n",
    "        \n",
    "    def get_params(self, deep: bool = True) -> Dict[str, Any]:\n",
    "        \"\"\"Get classifier parameters\"\"\"\n",
    "        return self.config\n",
    "        \n",
    "    def set_params(self, **params) -> 'BaseClassifier':\n",
    "        \"\"\"Set classifier parameters\"\"\"\n",
    "        self.config.update(params)\n",
    "        return self"
   ]
  }
 ],
 "metadata": {
  "language_info": {
   "name": "python"
  }
 },
 "nbformat": 4,
 "nbformat_minor": 5
}
